{
 "cells": [
  {
   "cell_type": "code",
   "execution_count": 3,
   "metadata": {},
   "outputs": [],
   "source": [
    "# -*- coding: utf-8 -*-\n",
    "# 코드 내부에 한글을 사용가능 하게 해주는 부분입니다.\n",
    "\n",
    "# 딥러닝을 구동하는 데 필요한 케라스 함수를 불러옵니다.\n",
    "from keras.models import Sequential\n",
    "from keras.layers import Dense\n",
    "\n",
    "# 필요한 라이브러리를 불러옵니다.\n",
    "import numpy\n",
    "import tensorflow as tf"
   ]
  },
  {
   "cell_type": "code",
   "execution_count": 10,
   "metadata": {},
   "outputs": [],
   "source": [
    "# 실행할 때마다 같은 결과를 출력하기 위해 설정하는 부분입니다.\n",
    "seed = 0\n",
    "numpy.random.seed(seed)\n",
    "tf.set_random_seed(seed)\n",
    "\n"
   ]
  },
  {
   "cell_type": "code",
   "execution_count": 43,
   "metadata": {},
   "outputs": [
    {
     "name": "stdout",
     "output_type": "stream",
     "text": [
      "(470, 18)\n",
      "(470, 17)\n",
      "(470,)\n",
      "[0. 0. 1. 1. 0. 0. 0. 1. 0. 0. 0. 0. 0. 0. 1. 0. 0. 0. 0. 0. 0. 0. 0. 0.\n",
      " 0. 0. 1. 0. 0. 1. 1. 0. 0. 0. 0. 0. 1. 0. 0. 1. 0. 0. 0. 1. 0. 1. 0. 0.\n",
      " 1. 0. 0. 0. 0. 0. 0. 0. 1. 0. 1. 0. 0. 0. 0. 0. 0. 0. 0. 0. 0. 0. 0. 0.\n",
      " 1. 0. 1. 0. 0. 0. 0. 0. 0. 0. 0. 0. 0. 0. 1. 0. 0. 0. 0. 0. 0. 0. 1. 0.\n",
      " 1. 0. 0. 0. 0. 0. 0. 0. 0. 0. 0. 0. 1. 0. 1. 0. 0. 0. 0. 0. 0. 0. 0. 0.\n",
      " 0. 0. 0. 1. 0. 0. 0. 0. 1. 0. 0. 0. 0. 0. 0. 0. 0. 0. 0. 0. 0. 0. 0. 0.\n",
      " 0. 0. 0. 1. 0. 0. 0. 0. 1. 0. 0. 0. 0. 0. 0. 0. 0. 0. 0. 1. 1. 0. 0. 0.\n",
      " 0. 0. 0. 0. 0. 0. 0. 0. 0. 0. 1. 0. 1. 0. 1. 0. 0. 0. 0. 0. 0. 0. 0. 0.\n",
      " 0. 0. 0. 1. 0. 0. 1. 1. 0. 0. 0. 0. 0. 0. 0. 0. 0. 0. 1. 0. 1. 0. 0. 0.\n",
      " 0. 0. 0. 0. 0. 1. 0. 1. 0. 0. 0. 0. 0. 0. 0. 1. 0. 0. 0. 0. 0. 0. 0. 0.\n",
      " 1. 0. 0. 0. 0. 0. 0. 0. 0. 1. 0. 0. 0. 0. 0. 0. 1. 0. 1. 0. 0. 0. 0. 0.\n",
      " 0. 0. 0. 0. 0. 0. 0. 0. 0. 0. 0. 0. 0. 1. 1. 0. 0. 0. 0. 1. 0. 0. 1. 0.\n",
      " 0. 0. 0. 1. 0. 0. 0. 0. 0. 0. 1. 0. 0. 0. 0. 0. 0. 0. 0. 0. 0. 1. 0. 0.\n",
      " 0. 0. 1. 0. 0. 0. 0. 0. 0. 1. 0. 0. 0. 1. 0. 0. 0. 0. 0. 0. 0. 0. 0. 0.\n",
      " 0. 0. 0. 0. 0. 0. 0. 0. 0. 1. 0. 0. 0. 0. 0. 0. 0. 0. 0. 0. 0. 0. 0. 0.\n",
      " 0. 0. 0. 0. 0. 0. 0. 0. 1. 0. 0. 0. 0. 0. 0. 0. 0. 0. 0. 0. 0. 0. 0. 0.\n",
      " 0. 0. 1. 0. 0. 0. 0. 0. 0. 0. 0. 0. 0. 0. 0. 0. 0. 0. 0. 0. 0. 0. 1. 0.\n",
      " 0. 1. 0. 1. 0. 0. 0. 1. 1. 0. 0. 0. 0. 0. 0. 0. 0. 0. 0. 0. 0. 0. 0. 0.\n",
      " 0. 0. 0. 0. 0. 0. 0. 0. 0. 0. 0. 1. 0. 0. 0. 0. 1. 0. 0. 1. 1. 0. 0. 1.\n",
      " 1. 0. 1. 0. 0. 1. 1. 0. 0. 0. 0. 0. 1. 0.]\n"
     ]
    }
   ],
   "source": [
    "# 준비된 수술 환자 데이터를 불러들입니다.\n",
    "Data_set = numpy.loadtxt(\"example/deeplearning/dataset/ThoraricSurgery.csv\", delimiter=\",\")\n",
    "\n",
    "# 환자의 기록과 수술 결과를 X와 Y로 구분하여 저장합니다.\n",
    "X = Data_set[:,0:17]\n",
    "Y = Data_set[:,17]\n",
    "\n",
    "print(Data_set.shape)\n",
    "\n",
    "print(X.shape)\n",
    "print(Y.shape)\n",
    "\n",
    "print(Y)"
   ]
  },
  {
   "cell_type": "code",
   "execution_count": 52,
   "metadata": {},
   "outputs": [
    {
     "name": "stdout",
     "output_type": "stream",
     "text": [
      "Model: \"sequential_10\"\n",
      "_________________________________________________________________\n",
      "Layer (type)                 Output Shape              Param #   \n",
      "=================================================================\n",
      "dense_19 (Dense)             (None, 30)                540       \n",
      "_________________________________________________________________\n",
      "dense_20 (Dense)             (None, 1)                 31        \n",
      "=================================================================\n",
      "Total params: 571\n",
      "Trainable params: 571\n",
      "Non-trainable params: 0\n",
      "_________________________________________________________________\n",
      "None\n"
     ]
    },
    {
     "data": {
      "image/png": "[encoded data removed]",
      "text/plain": [
       "<IPython.core.display.Image object>"
      ]
     },
     "execution_count": 52,
     "metadata": {},
     "output_type": "execute_result"
    }
   ],
   "source": [
    "# 딥러닝 구조를 결정합니다(모델을 설정하고 실행하는 부분입니다).\n",
    "model = Sequential()\n",
    "model.add(Dense(30, input_dim=17, activation='relu'))\n",
    "model.add(Dense(1, activation='sigmoid'))\n",
    "\n",
    "print(model.summary())\n",
    "\n",
    "from keras.utils.vis_utils import plot_model\n",
    "plot_model(model, to_file='model_plot.png', show_shapes=True, show_layer_names=True)"
   ]
  },
  {
   "cell_type": "code",
   "execution_count": 69,
   "metadata": {},
   "outputs": [
    {
     "name": "stdout",
     "output_type": "stream",
     "text": [
      "Epoch 1/30\n",
      "470/470 [==============================] - 0s 518us/step - loss: 0.1287 - acc: 0.8532\n",
      "Epoch 2/30\n",
      "470/470 [==============================] - 0s 76us/step - loss: 0.1256 - acc: 0.8574\n",
      "Epoch 3/30\n",
      "470/470 [==============================] - 0s 81us/step - loss: 0.1281 - acc: 0.8532\n",
      "Epoch 4/30\n",
      "470/470 [==============================] - 0s 81us/step - loss: 0.1279 - acc: 0.8596\n",
      "Epoch 5/30\n",
      "470/470 [==============================] - 0s 81us/step - loss: 0.1302 - acc: 0.8511\n",
      "Epoch 6/30\n",
      "470/470 [==============================] - 0s 81us/step - loss: 0.1310 - acc: 0.8553\n",
      "Epoch 7/30\n",
      "470/470 [==============================] - 0s 81us/step - loss: 0.1297 - acc: 0.8489\n",
      "Epoch 8/30\n",
      "470/470 [==============================] - 0s 83us/step - loss: 0.1340 - acc: 0.8574\n",
      "Epoch 9/30\n",
      "470/470 [==============================] - 0s 85us/step - loss: 0.1389 - acc: 0.8596\n",
      "Epoch 10/30\n",
      "470/470 [==============================] - 0s 83us/step - loss: 0.1336 - acc: 0.8617\n",
      "Epoch 11/30\n",
      "470/470 [==============================] - 0s 87us/step - loss: 0.1276 - acc: 0.8574\n",
      "Epoch 12/30\n",
      "470/470 [==============================] - 0s 76us/step - loss: 0.1306 - acc: 0.8489\n",
      "Epoch 13/30\n",
      "470/470 [==============================] - 0s 76us/step - loss: 0.1403 - acc: 0.8511\n",
      "Epoch 14/30\n",
      "470/470 [==============================] - 0s 76us/step - loss: 0.1311 - acc: 0.8617\n",
      "Epoch 15/30\n",
      "470/470 [==============================] - 0s 79us/step - loss: 0.1314 - acc: 0.8447\n",
      "Epoch 16/30\n",
      "470/470 [==============================] - 0s 81us/step - loss: 0.1292 - acc: 0.8638\n",
      "Epoch 17/30\n",
      "470/470 [==============================] - 0s 85us/step - loss: 0.1229 - acc: 0.8574\n",
      "Epoch 18/30\n",
      "470/470 [==============================] - 0s 72us/step - loss: 0.1387 - acc: 0.8574\n",
      "Epoch 19/30\n",
      "470/470 [==============================] - 0s 72us/step - loss: 0.1274 - acc: 0.8574\n",
      "Epoch 20/30\n",
      "470/470 [==============================] - 0s 83us/step - loss: 0.1285 - acc: 0.8532\n",
      "Epoch 21/30\n",
      "470/470 [==============================] - 0s 74us/step - loss: 0.1252 - acc: 0.8511\n",
      "Epoch 22/30\n",
      "470/470 [==============================] - 0s 76us/step - loss: 0.1244 - acc: 0.8468\n",
      "Epoch 23/30\n",
      "470/470 [==============================] - 0s 76us/step - loss: 0.1321 - acc: 0.8468\n",
      "Epoch 24/30\n",
      "470/470 [==============================] - 0s 72us/step - loss: 0.1276 - acc: 0.8553\n",
      "Epoch 25/30\n",
      "470/470 [==============================] - 0s 76us/step - loss: 0.1250 - acc: 0.8532\n",
      "Epoch 26/30\n",
      "470/470 [==============================] - 0s 76us/step - loss: 0.1294 - acc: 0.8553\n",
      "Epoch 27/30\n",
      "470/470 [==============================] - 0s 83us/step - loss: 0.1433 - acc: 0.8511\n",
      "Epoch 28/30\n",
      "470/470 [==============================] - 0s 79us/step - loss: 0.1390 - acc: 0.8596\n",
      "Epoch 29/30\n",
      "470/470 [==============================] - 0s 79us/step - loss: 0.1348 - acc: 0.8574\n",
      "Epoch 30/30\n",
      "470/470 [==============================] - 0s 74us/step - loss: 0.1286 - acc: 0.8447\n"
     ]
    },
    {
     "data": {
      "text/plain": [
       "<keras.callbacks.History at 0x1fca6c671d0>"
      ]
     },
     "execution_count": 69,
     "metadata": {},
     "output_type": "execute_result"
    }
   ],
   "source": [
    "\n",
    "# 딥러닝을 실행합니다.\n",
    "model.compile(loss='mean_squared_error', optimizer='adam', metrics=['accuracy'])\n",
    "model.fit(X, Y, epochs=30, batch_size=10)\n"
   ]
  },
  {
   "cell_type": "code",
   "execution_count": 70,
   "metadata": {},
   "outputs": [
    {
     "name": "stdout",
     "output_type": "stream",
     "text": [
      "470/470 [==============================] - 0s 168us/step\n",
      "\n",
      " Accuracy: 0.8553\n"
     ]
    }
   ],
   "source": [
    "# 결과를 출력합니다.\n",
    "print(\"\\n Accuracy: %.4f\" % (model.evaluate(X, Y)[1]))"
   ]
  },
  {
   "cell_type": "code",
   "execution_count": null,
   "metadata": {},
   "outputs": [],
   "source": []
  },
  {
   "cell_type": "code",
   "execution_count": null,
   "metadata": {},
   "outputs": [],
   "source": []
  }
 ],
 "metadata": {
  "kernelspec": {
   "display_name": "Python 3",
   "language": "python",
   "name": "python3"
  },
  "language_info": {
   "codemirror_mode": {
    "name": "ipython",
    "version": 3
   },
   "file_extension": ".py",
   "mimetype": "text/x-python",
   "name": "python",
   "nbconvert_exporter": "python",
   "pygments_lexer": "ipython3",
   "version": "3.6.8"
  }
 },
 "nbformat": 4,
 "nbformat_minor": 2
}
